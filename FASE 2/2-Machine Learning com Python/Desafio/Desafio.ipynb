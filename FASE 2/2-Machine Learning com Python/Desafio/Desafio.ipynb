{
 "cells": [
  {
   "cell_type": "markdown",
   "id": "21d33c5d",
   "metadata": {},
   "source": [
    "## Criar uma análise exploratória sobre os dados, seguindo os passos a seguir:"
   ]
  },
  {
   "cell_type": "markdown",
   "id": "a2b24476",
   "metadata": {},
   "source": [
    "### Passo 1: Realizar o upload da base de dados no Python, realize análises estastíticas descritivas sobre os dados, explorando todas as variáveis do modelo: variáveis qualitativas e quantitativas"
   ]
  },
  {
   "cell_type": "code",
   "execution_count": 1,
   "id": "f79c49da",
   "metadata": {},
   "outputs": [],
   "source": [
    "import pandas as pd"
   ]
  },
  {
   "cell_type": "code",
   "execution_count": 2,
   "id": "2ae4c233",
   "metadata": {},
   "outputs": [],
   "source": [
    "# Importando a base de dados\n",
    "df = pd.read_csv(\"cars.csv\", sep=',')"
   ]
  },
  {
   "cell_type": "code",
   "execution_count": 3,
   "id": "2503cadc",
   "metadata": {},
   "outputs": [
    {
     "data": {
      "text/html": [
       "<div>\n",
       "<style scoped>\n",
       "    .dataframe tbody tr th:only-of-type {\n",
       "        vertical-align: middle;\n",
       "    }\n",
       "\n",
       "    .dataframe tbody tr th {\n",
       "        vertical-align: top;\n",
       "    }\n",
       "\n",
       "    .dataframe thead th {\n",
       "        text-align: right;\n",
       "    }\n",
       "</style>\n",
       "<table border=\"1\" class=\"dataframe\">\n",
       "  <thead>\n",
       "    <tr style=\"text-align: right;\">\n",
       "      <th></th>\n",
       "      <th>id</th>\n",
       "      <th>brand</th>\n",
       "      <th>model</th>\n",
       "      <th>year</th>\n",
       "      <th>miles</th>\n",
       "      <th>city_mileage</th>\n",
       "      <th>highway_mileage</th>\n",
       "      <th>horsepower</th>\n",
       "      <th>torque</th>\n",
       "      <th>engine_capacity_litre</th>\n",
       "      <th>...</th>\n",
       "      <th>type</th>\n",
       "      <th>doors</th>\n",
       "      <th>wheel_drive</th>\n",
       "      <th>engine_type</th>\n",
       "      <th>speed_levels</th>\n",
       "      <th>front_headroom</th>\n",
       "      <th>front_legroom</th>\n",
       "      <th>rear_headroom</th>\n",
       "      <th>rear_legroom</th>\n",
       "      <th>service_records</th>\n",
       "    </tr>\n",
       "  </thead>\n",
       "  <tbody>\n",
       "    <tr>\n",
       "      <th>0</th>\n",
       "      <td>3</td>\n",
       "      <td>Chevrolet</td>\n",
       "      <td>Volt LT</td>\n",
       "      <td>2019</td>\n",
       "      <td>27173</td>\n",
       "      <td>43</td>\n",
       "      <td>42</td>\n",
       "      <td>149</td>\n",
       "      <td>294</td>\n",
       "      <td>1.5</td>\n",
       "      <td>...</td>\n",
       "      <td>sedan</td>\n",
       "      <td>4</td>\n",
       "      <td>2</td>\n",
       "      <td>hybrid_gas_electric</td>\n",
       "      <td>6.0</td>\n",
       "      <td>37.8</td>\n",
       "      <td>42.1</td>\n",
       "      <td>35.8</td>\n",
       "      <td>34.7</td>\n",
       "      <td>4</td>\n",
       "    </tr>\n",
       "    <tr>\n",
       "      <th>1</th>\n",
       "      <td>6</td>\n",
       "      <td>Hyundai</td>\n",
       "      <td>Elantra SE</td>\n",
       "      <td>2017</td>\n",
       "      <td>76941</td>\n",
       "      <td>29</td>\n",
       "      <td>38</td>\n",
       "      <td>146</td>\n",
       "      <td>132</td>\n",
       "      <td>2.0</td>\n",
       "      <td>...</td>\n",
       "      <td>sedan</td>\n",
       "      <td>4</td>\n",
       "      <td>2</td>\n",
       "      <td>gas</td>\n",
       "      <td>6.0</td>\n",
       "      <td>39.0</td>\n",
       "      <td>42.2</td>\n",
       "      <td>37.0</td>\n",
       "      <td>35.7</td>\n",
       "      <td>16</td>\n",
       "    </tr>\n",
       "    <tr>\n",
       "      <th>2</th>\n",
       "      <td>7</td>\n",
       "      <td>Ford</td>\n",
       "      <td>Focus</td>\n",
       "      <td>2014</td>\n",
       "      <td>97027</td>\n",
       "      <td>27</td>\n",
       "      <td>37</td>\n",
       "      <td>159</td>\n",
       "      <td>146</td>\n",
       "      <td>2.0</td>\n",
       "      <td>...</td>\n",
       "      <td>sedan</td>\n",
       "      <td>4</td>\n",
       "      <td>2</td>\n",
       "      <td>gas</td>\n",
       "      <td>6.0</td>\n",
       "      <td>38.3</td>\n",
       "      <td>43.7</td>\n",
       "      <td>38.0</td>\n",
       "      <td>33.2</td>\n",
       "      <td>13</td>\n",
       "    </tr>\n",
       "  </tbody>\n",
       "</table>\n",
       "<p>3 rows × 27 columns</p>\n",
       "</div>"
      ],
      "text/plain": [
       "   id      brand       model  year  miles  city_mileage  highway_mileage  \\\n",
       "0   3  Chevrolet     Volt LT  2019  27173            43               42   \n",
       "1   6    Hyundai  Elantra SE  2017  76941            29               38   \n",
       "2   7       Ford       Focus  2014  97027            27               37   \n",
       "\n",
       "   horsepower  torque  engine_capacity_litre  ...   type  doors  wheel_drive  \\\n",
       "0         149     294                    1.5  ...  sedan      4            2   \n",
       "1         146     132                    2.0  ...  sedan      4            2   \n",
       "2         159     146                    2.0  ...  sedan      4            2   \n",
       "\n",
       "           engine_type  speed_levels front_headroom  front_legroom  \\\n",
       "0  hybrid_gas_electric           6.0           37.8           42.1   \n",
       "1                  gas           6.0           39.0           42.2   \n",
       "2                  gas           6.0           38.3           43.7   \n",
       "\n",
       "  rear_headroom  rear_legroom  service_records  \n",
       "0          35.8          34.7                4  \n",
       "1          37.0          35.7               16  \n",
       "2          38.0          33.2               13  \n",
       "\n",
       "[3 rows x 27 columns]"
      ]
     },
     "execution_count": 3,
     "metadata": {},
     "output_type": "execute_result"
    }
   ],
   "source": [
    "# Analisando as primeiras linhas\n",
    "df.head(3)"
   ]
  },
  {
   "cell_type": "code",
   "execution_count": 4,
   "id": "d8024e4a",
   "metadata": {},
   "outputs": [
    {
     "data": {
      "text/plain": [
       "(52, 27)"
      ]
     },
     "execution_count": 4,
     "metadata": {},
     "output_type": "execute_result"
    }
   ],
   "source": [
    "# Alisando linhas e colunas\n",
    "df.shape"
   ]
  },
  {
   "cell_type": "code",
   "execution_count": 5,
   "id": "4736bfe1",
   "metadata": {},
   "outputs": [
    {
     "name": "stdout",
     "output_type": "stream",
     "text": [
      "id                         int64\n",
      "brand                     object\n",
      "model                     object\n",
      "year                       int64\n",
      "miles                      int64\n",
      "city_mileage               int64\n",
      "highway_mileage            int64\n",
      "horsepower                 int64\n",
      "torque                     int64\n",
      "engine_capacity_litre    float64\n",
      "fuel_capacity            float64\n",
      "num_cylinder               int64\n",
      "num_seat                   int64\n",
      "num_owners                 int64\n",
      "price                      int64\n",
      "link                      object\n",
      "condition                float64\n",
      "type                      object\n",
      "doors                      int64\n",
      "wheel_drive                int64\n",
      "engine_type               object\n",
      "speed_levels             float64\n",
      "front_headroom           float64\n",
      "front_legroom            float64\n",
      "rear_headroom            float64\n",
      "rear_legroom             float64\n",
      "service_records            int64\n",
      "dtype: object\n"
     ]
    }
   ],
   "source": [
    "#Verificando os tipos de variáveis em nosso conjunto de dados\n",
    "print(df.dtypes)"
   ]
  },
  {
   "cell_type": "code",
   "execution_count": 7,
   "id": "ee40b150",
   "metadata": {},
   "outputs": [
    {
     "data": {
      "text/plain": [
       "id                        0\n",
       "brand                     0\n",
       "model                     0\n",
       "year                      0\n",
       "miles                     0\n",
       "city_mileage              0\n",
       "highway_mileage           0\n",
       "horsepower                0\n",
       "torque                    0\n",
       "engine_capacity_litre     0\n",
       "fuel_capacity             0\n",
       "num_cylinder              0\n",
       "num_seat                  0\n",
       "num_owners                0\n",
       "price                     0\n",
       "link                      0\n",
       "condition                51\n",
       "type                      0\n",
       "doors                     0\n",
       "wheel_drive               0\n",
       "engine_type               0\n",
       "speed_levels              1\n",
       "front_headroom            0\n",
       "front_legroom             0\n",
       "rear_headroom             0\n",
       "rear_legroom              0\n",
       "service_records           0\n",
       "dtype: int64"
      ]
     },
     "execution_count": 7,
     "metadata": {},
     "output_type": "execute_result"
    }
   ],
   "source": [
    "# Verificando se há nulos\n",
    "df.isnull().sum()"
   ]
  },
  {
   "cell_type": "code",
   "execution_count": 8,
   "id": "48399798",
   "metadata": {},
   "outputs": [
    {
     "data": {
      "text/plain": [
       "0"
      ]
     },
     "execution_count": 8,
     "metadata": {},
     "output_type": "execute_result"
    }
   ],
   "source": [
    "# Verificando se há duplicados\n",
    "df.duplicated().sum()"
   ]
  },
  {
   "cell_type": "code",
   "execution_count": 6,
   "id": "c42cbfdf",
   "metadata": {},
   "outputs": [
    {
     "name": "stdout",
     "output_type": "stream",
     "text": [
      "Data Inicial:  2014\n",
      "Data Final:  2022\n"
     ]
    }
   ],
   "source": [
    "#Vamos entender o ínicio e o fim do ano dos carros\n",
    "print(\"Data Inicial: \", df['year'].min())\n",
    "print(\"Data Final: \", df['year'].max())"
   ]
  },
  {
   "cell_type": "code",
   "execution_count": 9,
   "id": "386b094c",
   "metadata": {},
   "outputs": [
    {
     "data": {
      "text/html": [
       "<div>\n",
       "<style scoped>\n",
       "    .dataframe tbody tr th:only-of-type {\n",
       "        vertical-align: middle;\n",
       "    }\n",
       "\n",
       "    .dataframe tbody tr th {\n",
       "        vertical-align: top;\n",
       "    }\n",
       "\n",
       "    .dataframe thead th {\n",
       "        text-align: right;\n",
       "    }\n",
       "</style>\n",
       "<table border=\"1\" class=\"dataframe\">\n",
       "  <thead>\n",
       "    <tr style=\"text-align: right;\">\n",
       "      <th></th>\n",
       "      <th>id</th>\n",
       "      <th>year</th>\n",
       "      <th>miles</th>\n",
       "      <th>city_mileage</th>\n",
       "      <th>highway_mileage</th>\n",
       "      <th>horsepower</th>\n",
       "      <th>torque</th>\n",
       "      <th>engine_capacity_litre</th>\n",
       "      <th>fuel_capacity</th>\n",
       "      <th>num_cylinder</th>\n",
       "      <th>...</th>\n",
       "      <th>price</th>\n",
       "      <th>condition</th>\n",
       "      <th>doors</th>\n",
       "      <th>wheel_drive</th>\n",
       "      <th>speed_levels</th>\n",
       "      <th>front_headroom</th>\n",
       "      <th>front_legroom</th>\n",
       "      <th>rear_headroom</th>\n",
       "      <th>rear_legroom</th>\n",
       "      <th>service_records</th>\n",
       "    </tr>\n",
       "  </thead>\n",
       "  <tbody>\n",
       "    <tr>\n",
       "      <th>count</th>\n",
       "      <td>52.000000</td>\n",
       "      <td>52.000000</td>\n",
       "      <td>52.000000</td>\n",
       "      <td>52.000000</td>\n",
       "      <td>52.000000</td>\n",
       "      <td>52.000000</td>\n",
       "      <td>52.000000</td>\n",
       "      <td>52.000000</td>\n",
       "      <td>52.000000</td>\n",
       "      <td>52.000000</td>\n",
       "      <td>...</td>\n",
       "      <td>52.000000</td>\n",
       "      <td>1.0</td>\n",
       "      <td>52.0</td>\n",
       "      <td>52.000000</td>\n",
       "      <td>51.000000</td>\n",
       "      <td>52.000000</td>\n",
       "      <td>52.000000</td>\n",
       "      <td>52.000000</td>\n",
       "      <td>52.000000</td>\n",
       "      <td>52.000000</td>\n",
       "    </tr>\n",
       "    <tr>\n",
       "      <th>mean</th>\n",
       "      <td>31.365385</td>\n",
       "      <td>2018.673077</td>\n",
       "      <td>33901.250000</td>\n",
       "      <td>29.038462</td>\n",
       "      <td>37.423077</td>\n",
       "      <td>176.865385</td>\n",
       "      <td>177.923077</td>\n",
       "      <td>1.832692</td>\n",
       "      <td>14.232692</td>\n",
       "      <td>4.038462</td>\n",
       "      <td>...</td>\n",
       "      <td>21763.423077</td>\n",
       "      <td>4.0</td>\n",
       "      <td>4.0</td>\n",
       "      <td>2.153846</td>\n",
       "      <td>6.313725</td>\n",
       "      <td>38.680769</td>\n",
       "      <td>42.467308</td>\n",
       "      <td>37.238462</td>\n",
       "      <td>37.632692</td>\n",
       "      <td>7.326923</td>\n",
       "    </tr>\n",
       "    <tr>\n",
       "      <th>std</th>\n",
       "      <td>15.378912</td>\n",
       "      <td>1.396370</td>\n",
       "      <td>22700.646139</td>\n",
       "      <td>5.947356</td>\n",
       "      <td>4.136619</td>\n",
       "      <td>33.793507</td>\n",
       "      <td>47.256433</td>\n",
       "      <td>0.379743</td>\n",
       "      <td>2.603973</td>\n",
       "      <td>0.277350</td>\n",
       "      <td>...</td>\n",
       "      <td>3532.455322</td>\n",
       "      <td>NaN</td>\n",
       "      <td>0.0</td>\n",
       "      <td>0.538138</td>\n",
       "      <td>0.761320</td>\n",
       "      <td>0.919087</td>\n",
       "      <td>1.045198</td>\n",
       "      <td>0.444202</td>\n",
       "      <td>1.604249</td>\n",
       "      <td>4.714272</td>\n",
       "    </tr>\n",
       "    <tr>\n",
       "      <th>min</th>\n",
       "      <td>3.000000</td>\n",
       "      <td>2014.000000</td>\n",
       "      <td>5000.000000</td>\n",
       "      <td>17.000000</td>\n",
       "      <td>24.000000</td>\n",
       "      <td>143.000000</td>\n",
       "      <td>99.000000</td>\n",
       "      <td>1.400000</td>\n",
       "      <td>7.000000</td>\n",
       "      <td>4.000000</td>\n",
       "      <td>...</td>\n",
       "      <td>13590.000000</td>\n",
       "      <td>4.0</td>\n",
       "      <td>4.0</td>\n",
       "      <td>2.000000</td>\n",
       "      <td>6.000000</td>\n",
       "      <td>37.500000</td>\n",
       "      <td>41.100000</td>\n",
       "      <td>35.800000</td>\n",
       "      <td>33.200000</td>\n",
       "      <td>1.000000</td>\n",
       "    </tr>\n",
       "    <tr>\n",
       "      <th>25%</th>\n",
       "      <td>18.750000</td>\n",
       "      <td>2018.000000</td>\n",
       "      <td>16454.750000</td>\n",
       "      <td>26.500000</td>\n",
       "      <td>35.750000</td>\n",
       "      <td>152.000000</td>\n",
       "      <td>138.000000</td>\n",
       "      <td>1.500000</td>\n",
       "      <td>12.400000</td>\n",
       "      <td>4.000000</td>\n",
       "      <td>...</td>\n",
       "      <td>19519.000000</td>\n",
       "      <td>4.0</td>\n",
       "      <td>4.0</td>\n",
       "      <td>2.000000</td>\n",
       "      <td>6.000000</td>\n",
       "      <td>37.725000</td>\n",
       "      <td>42.200000</td>\n",
       "      <td>37.075000</td>\n",
       "      <td>37.175000</td>\n",
       "      <td>4.000000</td>\n",
       "    </tr>\n",
       "    <tr>\n",
       "      <th>50%</th>\n",
       "      <td>31.500000</td>\n",
       "      <td>2019.000000</td>\n",
       "      <td>27448.500000</td>\n",
       "      <td>30.000000</td>\n",
       "      <td>38.000000</td>\n",
       "      <td>159.500000</td>\n",
       "      <td>181.000000</td>\n",
       "      <td>2.000000</td>\n",
       "      <td>13.600000</td>\n",
       "      <td>4.000000</td>\n",
       "      <td>...</td>\n",
       "      <td>21998.500000</td>\n",
       "      <td>4.0</td>\n",
       "      <td>4.0</td>\n",
       "      <td>2.000000</td>\n",
       "      <td>6.000000</td>\n",
       "      <td>38.500000</td>\n",
       "      <td>42.300000</td>\n",
       "      <td>37.200000</td>\n",
       "      <td>37.400000</td>\n",
       "      <td>6.000000</td>\n",
       "    </tr>\n",
       "    <tr>\n",
       "      <th>75%</th>\n",
       "      <td>44.250000</td>\n",
       "      <td>2019.250000</td>\n",
       "      <td>42442.000000</td>\n",
       "      <td>30.000000</td>\n",
       "      <td>40.000000</td>\n",
       "      <td>192.000000</td>\n",
       "      <td>192.000000</td>\n",
       "      <td>2.000000</td>\n",
       "      <td>15.050000</td>\n",
       "      <td>4.000000</td>\n",
       "      <td>...</td>\n",
       "      <td>22996.000000</td>\n",
       "      <td>4.0</td>\n",
       "      <td>4.0</td>\n",
       "      <td>2.000000</td>\n",
       "      <td>6.000000</td>\n",
       "      <td>39.300000</td>\n",
       "      <td>42.400000</td>\n",
       "      <td>37.500000</td>\n",
       "      <td>38.300000</td>\n",
       "      <td>10.000000</td>\n",
       "    </tr>\n",
       "    <tr>\n",
       "      <th>max</th>\n",
       "      <td>57.000000</td>\n",
       "      <td>2022.000000</td>\n",
       "      <td>97027.000000</td>\n",
       "      <td>55.000000</td>\n",
       "      <td>49.000000</td>\n",
       "      <td>288.000000</td>\n",
       "      <td>294.000000</td>\n",
       "      <td>3.500000</td>\n",
       "      <td>19.000000</td>\n",
       "      <td>6.000000</td>\n",
       "      <td>...</td>\n",
       "      <td>33777.000000</td>\n",
       "      <td>4.0</td>\n",
       "      <td>4.0</td>\n",
       "      <td>4.000000</td>\n",
       "      <td>9.000000</td>\n",
       "      <td>40.400000</td>\n",
       "      <td>45.500000</td>\n",
       "      <td>38.000000</td>\n",
       "      <td>40.400000</td>\n",
       "      <td>26.000000</td>\n",
       "    </tr>\n",
       "  </tbody>\n",
       "</table>\n",
       "<p>8 rows × 22 columns</p>\n",
       "</div>"
      ],
      "text/plain": [
       "              id         year         miles  city_mileage  highway_mileage  \\\n",
       "count  52.000000    52.000000     52.000000     52.000000        52.000000   \n",
       "mean   31.365385  2018.673077  33901.250000     29.038462        37.423077   \n",
       "std    15.378912     1.396370  22700.646139      5.947356         4.136619   \n",
       "min     3.000000  2014.000000   5000.000000     17.000000        24.000000   \n",
       "25%    18.750000  2018.000000  16454.750000     26.500000        35.750000   \n",
       "50%    31.500000  2019.000000  27448.500000     30.000000        38.000000   \n",
       "75%    44.250000  2019.250000  42442.000000     30.000000        40.000000   \n",
       "max    57.000000  2022.000000  97027.000000     55.000000        49.000000   \n",
       "\n",
       "       horsepower      torque  engine_capacity_litre  fuel_capacity  \\\n",
       "count   52.000000   52.000000              52.000000      52.000000   \n",
       "mean   176.865385  177.923077               1.832692      14.232692   \n",
       "std     33.793507   47.256433               0.379743       2.603973   \n",
       "min    143.000000   99.000000               1.400000       7.000000   \n",
       "25%    152.000000  138.000000               1.500000      12.400000   \n",
       "50%    159.500000  181.000000               2.000000      13.600000   \n",
       "75%    192.000000  192.000000               2.000000      15.050000   \n",
       "max    288.000000  294.000000               3.500000      19.000000   \n",
       "\n",
       "       num_cylinder  ...         price  condition  doors  wheel_drive  \\\n",
       "count     52.000000  ...     52.000000        1.0   52.0    52.000000   \n",
       "mean       4.038462  ...  21763.423077        4.0    4.0     2.153846   \n",
       "std        0.277350  ...   3532.455322        NaN    0.0     0.538138   \n",
       "min        4.000000  ...  13590.000000        4.0    4.0     2.000000   \n",
       "25%        4.000000  ...  19519.000000        4.0    4.0     2.000000   \n",
       "50%        4.000000  ...  21998.500000        4.0    4.0     2.000000   \n",
       "75%        4.000000  ...  22996.000000        4.0    4.0     2.000000   \n",
       "max        6.000000  ...  33777.000000        4.0    4.0     4.000000   \n",
       "\n",
       "       speed_levels  front_headroom  front_legroom  rear_headroom  \\\n",
       "count     51.000000       52.000000      52.000000      52.000000   \n",
       "mean       6.313725       38.680769      42.467308      37.238462   \n",
       "std        0.761320        0.919087       1.045198       0.444202   \n",
       "min        6.000000       37.500000      41.100000      35.800000   \n",
       "25%        6.000000       37.725000      42.200000      37.075000   \n",
       "50%        6.000000       38.500000      42.300000      37.200000   \n",
       "75%        6.000000       39.300000      42.400000      37.500000   \n",
       "max        9.000000       40.400000      45.500000      38.000000   \n",
       "\n",
       "       rear_legroom  service_records  \n",
       "count     52.000000        52.000000  \n",
       "mean      37.632692         7.326923  \n",
       "std        1.604249         4.714272  \n",
       "min       33.200000         1.000000  \n",
       "25%       37.175000         4.000000  \n",
       "50%       37.400000         6.000000  \n",
       "75%       38.300000        10.000000  \n",
       "max       40.400000        26.000000  \n",
       "\n",
       "[8 rows x 22 columns]"
      ]
     },
     "execution_count": 9,
     "metadata": {},
     "output_type": "execute_result"
    }
   ],
   "source": [
    "#Analisando informações básicas de matemáticas, como média, valor mínimo e máximo, desvio padrão e quartil (que representa uma porcentagem de amostra dos dados).\n",
    "df.describe()"
   ]
  },
  {
   "cell_type": "markdown",
   "id": "a93ce73e",
   "metadata": {},
   "source": [
    "**Média de ano:** 2018  \n",
    "**Média de milhas:** 33901  \n",
    "**Média KM Cidade:** 29  \n",
    "**Média KM Estrada:** 37  \n",
    "**Média Cavalos:** 176  \n",
    "**Média Capacidade Combustivel MPG:** 14 ( 1 mpg = 0,425144 L)  \n",
    "**Media Preço:** 21763"
   ]
  },
  {
   "cell_type": "markdown",
   "id": "3a7f8736",
   "metadata": {},
   "source": [
    "### Passo 2: Utilize bibliotecas de vizualização em Python para realizar a análise exploratória dos dados, utilizando técnicas de storytelling"
   ]
  },
  {
   "cell_type": "code",
   "execution_count": 10,
   "id": "2d4a29f3",
   "metadata": {},
   "outputs": [
    {
     "data": {
      "text/plain": [
       "brand\n",
       "Chevrolet     31.333333\n",
       "Ford          21.000000\n",
       "Honda         32.173913\n",
       "Hyundai       27.285714\n",
       "Subaru        27.666667\n",
       "Volkswagen    27.000000\n",
       "Name: city_mileage, dtype: float64"
      ]
     },
     "execution_count": 10,
     "metadata": {},
     "output_type": "execute_result"
    }
   ],
   "source": [
    "#Qual marca consome menos na cidade\n",
    "df.groupby('brand')['city_mileage'].mean()"
   ]
  },
  {
   "cell_type": "code",
   "execution_count": 11,
   "id": "48516d00",
   "metadata": {},
   "outputs": [
    {
     "data": {
      "image/png": "[encoded data removed]",
      "text/plain": [
       "<Figure size 640x480 with 1 Axes>"
      ]
     },
     "metadata": {},
     "output_type": "display_data"
    },
    {
     "data": {
      "text/plain": [
       "brand\n",
       "Ford          21.000000\n",
       "Volkswagen    27.000000\n",
       "Hyundai       27.285714\n",
       "Subaru        27.666667\n",
       "Chevrolet     31.333333\n",
       "Name: city_mileage, dtype: float64"
      ]
     },
     "metadata": {},
     "output_type": "display_data"
    }
   ],
   "source": [
    "#Importando a biblioteca matplotlib\n",
    "import matplotlib.pyplot as plt\n",
    "\n",
    "#Vamos ordernar do maior para o menor os carros que consomem menos na cidade\n",
    "df_menor_consumo_cidade = df.groupby('brand')['city_mileage'].mean().sort_values(ascending=True)\n",
    "\n",
    "#Agora vamos trazer os Top 5 em um gráfico de barras simples\n",
    "df_menor_consumo_cidade.head(5).plot(kind='bar') #Aqui estamos definindo qual o tipo de gráfico queremos utilizar.\n",
    "plt.xlabel('Marcas') #Aqui estamos dando um título para nosso eixo horizontal do gráfico\n",
    "plt.ylabel('MPG') #Aqui estamos dando um título para nosso eixo vertical do gráfico\n",
    "plt.title('Top 5 carros com menor comsumo na cidade') #Título do gráfico\n",
    "plt.show() #Esse comando serve para mostrar o gráfico\n",
    "\n",
    "#Vamos trazer os valores desse Top 5 abaixo do gráfico, para podermos analisar mais detalhadamente caso precise.\n",
    "display(df_menor_consumo_cidade.head(5))"
   ]
  },
  {
   "cell_type": "code",
   "execution_count": 12,
   "id": "ab8fa3be",
   "metadata": {},
   "outputs": [
    {
     "data": {
      "text/plain": [
       "brand\n",
       "Chevrolet     36.666667\n",
       "Ford          30.000000\n",
       "Honda         39.695652\n",
       "Hyundai       36.285714\n",
       "Subaru        37.000000\n",
       "Volkswagen    37.090909\n",
       "Name: highway_mileage, dtype: float64"
      ]
     },
     "execution_count": 12,
     "metadata": {},
     "output_type": "execute_result"
    }
   ],
   "source": [
    "#Qual marca consome menos na estrada\n",
    "df.groupby('brand')['highway_mileage'].mean()"
   ]
  },
  {
   "cell_type": "code",
   "execution_count": 13,
   "id": "b01cc7f5",
   "metadata": {},
   "outputs": [
    {
     "data": {
      "image/png": "[encoded data removed]",
      "text/plain": [
       "<Figure size 640x480 with 1 Axes>"
      ]
     },
     "metadata": {},
     "output_type": "display_data"
    },
    {
     "data": {
      "text/plain": [
       "brand\n",
       "Ford          30.000000\n",
       "Hyundai       36.285714\n",
       "Chevrolet     36.666667\n",
       "Subaru        37.000000\n",
       "Volkswagen    37.090909\n",
       "Name: highway_mileage, dtype: float64"
      ]
     },
     "metadata": {},
     "output_type": "display_data"
    }
   ],
   "source": [
    "#Importando a biblioteca matplotlib\n",
    "import matplotlib.pyplot as plt\n",
    "\n",
    "#Vamos ordernar do maior para o menor os carros que consomem menos na cidade\n",
    "df_menor_consumo_estrada = df.groupby('brand')['highway_mileage'].mean().sort_values(ascending=True)\n",
    "\n",
    "#Agora vamos trazer os Top 5 em um gráfico de barras simples\n",
    "df_menor_consumo_estrada.head(5).plot(kind='bar') #Aqui estamos definindo qual o tipo de gráfico queremos utilizar.\n",
    "plt.xlabel('Marcas') #Aqui estamos dando um título para nosso eixo horizontal do gráfico\n",
    "plt.ylabel('MPG') #Aqui estamos dando um título para nosso eixo vertical do gráfico\n",
    "plt.title('Top 5 carros com menor comsumo na estrada') #Título do gráfico\n",
    "plt.show() #Esse comando serve para mostrar o gráfico\n",
    "\n",
    "#Vamos trazer os valores desse Top 5 abaixo do gráfico, para podermos analisar mais detalhadamente caso precise.\n",
    "display(df_menor_consumo_estrada.head(5))"
   ]
  },
  {
   "cell_type": "code",
   "execution_count": null,
   "id": "bf0c7c25",
   "metadata": {},
   "outputs": [],
   "source": []
  }
 ],
 "metadata": {
  "kernelspec": {
   "display_name": "Python 3 (ipykernel)",
   "language": "python",
   "name": "python3"
  },
  "language_info": {
   "codemirror_mode": {
    "name": "ipython",
    "version": 3
   },
   "file_extension": ".py",
   "mimetype": "text/x-python",
   "name": "python",
   "nbconvert_exporter": "python",
   "pygments_lexer": "ipython3",
   "version": "3.11.4"
  }
 },
 "nbformat": 4,
 "nbformat_minor": 5
}
