{
 "cells": [
  {
   "cell_type": "markdown",
   "id": "8160c8d1",
   "metadata": {},
   "source": [
    "## VIDEO 1"
   ]
  },
  {
   "cell_type": "markdown",
   "id": "552667b5",
   "metadata": {},
   "source": [
    "### Fraude de cartão de crédito\n",
    "## Fonte de Dados:\n",
    " - Os pagamentos digitais estão evoluindo, mas os criminosos cibernéticos também. <br><br>\n",
    " - De acordo com o Data Breach Index, mais de 5 milhões de registros são roubados diariamente, uma estatística preocupante que mostra - a fraude ainda é muito comum tanto para pagamentos do tipo Cartão-Presente quanto Cartão-Não Presente.<br><br>  \n",
    " - No mundo digital de hoje, onde trilhões de transações com cartões acontecem por dia, a detecção de fraudes é um desafio.  \n",
    "  \n",
    "## Explicação do das variáveis:\n",
    "\n",
    " - **distancefromhome** - a distância de casa onde a transação aconteceu.\n",
    "\n",
    " - **distancefromlast_transaction** - a distância da última transação aconteceu.\n",
    "\n",
    " - **ratiotomedianpurchaseprice** - Razão da transação do preço de compra para o preço de compra mediano.\n",
    "\n",
    " - **repeat_retailer** - É a transação que aconteceu do mesmo varejista.\n",
    "\n",
    " - **used_chip** - É a transação através de chip (cartão de crédito).\n",
    "\n",
    " - **usedpinnumber** - A transação aconteceu usando o número PIN.\n",
    "\n",
    " - **online_order** - A transação é um pedido online.\n",
    "\n",
    " - **fraude** - A transação é fraudulenta."
   ]
  },
  {
   "cell_type": "code",
   "execution_count": null,
   "id": "a2cfaa9b",
   "metadata": {},
   "outputs": [],
   "source": []
  }
 ],
 "metadata": {
  "kernelspec": {
   "display_name": "Python 3 (ipykernel)",
   "language": "python",
   "name": "python3"
  },
  "language_info": {
   "codemirror_mode": {
    "name": "ipython",
    "version": 3
   },
   "file_extension": ".py",
   "mimetype": "text/x-python",
   "name": "python",
   "nbconvert_exporter": "python",
   "pygments_lexer": "ipython3",
   "version": "3.11.4"
  }
 },
 "nbformat": 4,
 "nbformat_minor": 5
}
